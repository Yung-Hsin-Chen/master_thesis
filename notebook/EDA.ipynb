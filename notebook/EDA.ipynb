{
 "cells": [
  {
   "cell_type": "code",
   "execution_count": 2,
   "metadata": {},
   "outputs": [],
   "source": [
    "# Import packages\n",
    "import os\n",
    "import re"
   ]
  },
  {
   "cell_type": "markdown",
   "metadata": {},
   "source": [
    "### GW Dataset"
   ]
  },
  {
   "cell_type": "code",
   "execution_count": 9,
   "metadata": {},
   "outputs": [
    {
     "name": "stdout",
     "output_type": "stream",
     "text": [
      "/Users/chenyongxin/Desktop/Master_Thesis/master_thesis/notebook\n"
     ]
    },
    {
     "data": {
      "text/plain": [
       "{'0th',\n",
       " '1st',\n",
       " '1th',\n",
       " '2nd',\n",
       " '3rd',\n",
       " '5th',\n",
       " '6th',\n",
       " '7th',\n",
       " '8th',\n",
       " '9th',\n",
       " 'GW',\n",
       " 'bl',\n",
       " 'br',\n",
       " 'cm',\n",
       " 'et',\n",
       " 'lb',\n",
       " 'mi',\n",
       " 'pt',\n",
       " 'qo',\n",
       " 'qt',\n",
       " 'sl',\n",
       " 'sq'}"
      ]
     },
     "execution_count": 9,
     "metadata": {},
     "output_type": "execute_result"
    }
   ],
   "source": [
    "def get_punctuations() -> set:\n",
    "    \"\"\"\n",
    "    get_punctuations()\n",
    "\n",
    "    Outputs all the punctuations/dates used in the GW dataset.\n",
    "\n",
    "    Parameters\n",
    "    -----------\n",
    "    None\n",
    "\n",
    "    Returns\n",
    "    --------\n",
    "    result: set\n",
    "        A set that contains all unique punctuations in the ground truth file\n",
    "    \"\"\"\n",
    "    # Open the GW ground truth file and read it\n",
    "    print(os.getcwd())\n",
    "    path = os.path.join(\"..\", \"data\", \"raw\", \"GW\", \"ground_truth\", \"transcription.txt\")\n",
    "    with open(path, \"r\") as file:\n",
    "        file_content = file.read()\n",
    "\n",
    "    # Match the pattern with \"s_\" followed by two or more alphabets or decimal digits\n",
    "    pattern = re.compile(r's_[a-zA-Z0-9]{2,}')\n",
    "    # Find all matches in the file content and store it in result\n",
    "    result = set()\n",
    "    matches = pattern.findall(file_content)\n",
    "    for match in matches:\n",
    "        result.add(match[2:])\n",
    "        \n",
    "    return result\n",
    "\n",
    "get_punctuations()"
   ]
  },
  {
   "cell_type": "code",
   "execution_count": null,
   "metadata": {},
   "outputs": [],
   "source": []
  }
 ],
 "metadata": {
  "kernelspec": {
   "display_name": "Python 3",
   "language": "python",
   "name": "python3"
  },
  "language_info": {
   "codemirror_mode": {
    "name": "ipython",
    "version": 3
   },
   "file_extension": ".py",
   "mimetype": "text/x-python",
   "name": "python",
   "nbconvert_exporter": "python",
   "pygments_lexer": "ipython3",
   "version": "3.12.0"
  }
 },
 "nbformat": 4,
 "nbformat_minor": 2
}
